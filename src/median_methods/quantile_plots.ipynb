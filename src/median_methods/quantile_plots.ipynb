{
 "cells": [
  {
   "cell_type": "code",
   "execution_count": null,
   "metadata": {},
   "outputs": [],
   "source": [
    "%matplotlib inline\n",
    "\n",
    "import system_generation as sysgen\n",
    "import median_methods as methods\n",
    "import plots\n",
    "import math\n",
    "import numpy as np\n",
    "import matplotlib.pyplot as plt\n"
   ]
  },
  {
   "cell_type": "markdown",
   "metadata": {},
   "source": [
    "For the first few tests we'll use the same Gaussian system."
   ]
  },
  {
   "cell_type": "code",
   "execution_count": null,
   "metadata": {},
   "outputs": [],
   "source": [
    "rows, cols = 50000, 100\n",
    "beta = 0.2\n",
    "errs = math.ceil(beta * rows);\n",
    "A,b,soln = sysgen.normalized_gaussian_with_errors(rows, cols, errs, max_error=1)\n",
    "start = np.zeros(cols)\n",
    "start_data = [A,b,start]"
   ]
  },
  {
   "cell_type": "code",
   "execution_count": null,
   "metadata": {},
   "outputs": [],
   "source": [
    "sgd_various_quantiles = [[methods.SampledQuantileSGD(*start_data, \n",
    "\t\tquantile=q/10, samples=100),\"Q=\"+str(q)] for q in range(1,10)]\n",
    "plots.make_plot(sgd_various_quantiles, iters=4000, soln=soln)\n",
    "plt.show()"
   ]
  },
  {
   "cell_type": "code",
   "execution_count": null,
   "metadata": {},
   "outputs": [],
   "source": [
    "rk_various_quantiles = [[methods.SampledQuantileRK(*start_data, \n",
    "\t\tquantile=q/10, samples=100),\"Q=\"+str(q)] for q in range(1,8)]\n",
    "linedesigns = [\n",
    "#[linestyle info, linewidth, markersize, markevery] \n",
    "['g',2,12,1000],\n",
    "['b--',2,12,1000],\n",
    "['r-.',2,12,1000],\n",
    "['c:',2,12,1000],\n",
    "['ko-',2,7,1000],\n",
    "['mv--',2,7,1000],\n",
    "['br-',2,7,1000]\n",
    "] \n",
    "plots.make_plot(rk_various_quantiles, iters=4000, soln=soln, linedesigns=linedesigns)\n",
    "plt.show()"
   ]
  },
  {
   "cell_type": "code",
   "execution_count": null,
   "metadata": {},
   "outputs": [],
   "source": [
    "quantiles = np.linspace(0,0.9,num=100)\n",
    "sgd_error_by_quantile = [math.log(plots.final_error( methods.SampledQuantileSGD(*start_data, quantile = q, samples=100) , \n",
    "        iters=4000, soln=soln)) for q in quantiles]\n",
    "plt.xlabel('Quantile')\n",
    "plt.ylabel('Error after 4000 iterations')\n",
    "plt.plot(quantiles, sgd_error_by_quantile)\n",
    "plt.show()"
   ]
  },
  {
   "cell_type": "code",
   "execution_count": null,
   "metadata": {},
   "outputs": [],
   "source": [
    "quantiles = np.linspace(0,0.9,num=100)\n",
    "rk_error_by_quantile = [math.log(plots.final_error( methods.SampledQuantileRK(*start_data, quantile = q, samples=100) , \n",
    "                                     iters=4000, soln=soln)) for q in quantiles]\n",
    "plt.xlabel('Quantile')\n",
    "plt.ylabel('Error after 4000 iterations')\n",
    "plt.plot(quantiles, rk_error_by_quantile)\n",
    "plt.show()"
   ]
  },
  {
   "cell_type": "markdown",
   "metadata": {},
   "source": [
    "Note that SGD is much less sensitive to the choice of quantile than is RK.   "
   ]
  },
  {
   "cell_type": "markdown",
   "metadata": {},
   "source": [
    "---\n",
    "Here we see a comparison of quantile based RK and quantile SGD."
   ]
  },
  {
   "cell_type": "code",
   "execution_count": null,
   "metadata": {},
   "outputs": [],
   "source": [
    "rk_vs_sgd = [[methods.SampledQuantileSGD(*start_data, \n",
    "\t\tquantile=0.4, samples=100), \"q-SGD with q = 0.4\"],\n",
    "\t\t[methods.SampledQuantileRK(*start_data, \n",
    "\t\tquantile=0.7, samples=100), \"q-RK with q = 0.7\"]]\n",
    "plt.xlabel('Iteration')\n",
    "plt.ylabel('Error')\n",
    "plt.yscale('log')\n",
    "linedesigns = [\n",
    "#[linestyle info, linewidth, markersize, markevery] \n",
    "['',2,12,1000],\n",
    "['o--',2,7,1000],\n",
    "] \n",
    "plots.make_plot(rk_vs_sgd,iters=10000,soln=soln, linedesigns=linedesigns)\n",
    "plt.show()"
   ]
  },
  {
   "cell_type": "markdown",
   "metadata": {},
   "source": [
    "---\n",
    "How does the sliding window method compare to subsampling rows?"
   ]
  },
  {
   "cell_type": "code",
   "execution_count": null,
   "metadata": {},
   "outputs": [],
   "source": [
    "sw_sgd = methods.SW_SGD(*start_data, quantile = 0.4, window_size=100)\n",
    "sampled_sgd = methods.SampledQuantileSGD(*start_data, quantile = 0.4, samples=100)\n",
    "plots.make_plot([[sw_sgd, \"Sliding Window\"], [sampled_sgd,\"Subsampled\"]], iters=4000, soln=soln)\n",
    "plt.show()"
   ]
  },
  {
   "cell_type": "code",
   "execution_count": null,
   "metadata": {},
   "outputs": [],
   "source": [
    "sw_rk = methods.SWQuantileRK(*start_data, quantile = 0.7, window_size=100)\n",
    "sampled_rk = methods.SampledQuantileRK(*start_data, quantile = 0.6, samples=100)\n",
    "plots.make_plot([[sw_rk, \"Sliding Window RK\"], [sampled_rk,\"Subsampled RK\"]], iters=4000, soln=soln)\n",
    "plt.show()"
   ]
  },
  {
   "cell_type": "markdown",
   "metadata": {},
   "source": [
    "How do the two methods compare as far as time?"
   ]
  },
  {
   "cell_type": "code",
   "execution_count": null,
   "metadata": {},
   "outputs": [],
   "source": [
    "from timeit import default_timer as timer\n",
    "\n",
    "iters = 10000\n",
    "\n",
    "sw_rk = methods.SWQuantileRK(*start_data, quantile = 0.7, window_size=100)\n",
    "sampled_rk = methods.SampledQuantileRK(*start_data, quantile = 0.6, samples=100)\n",
    "\n",
    "def time_method(method, iters):\n",
    "    start = timer()\n",
    "    for i in range(0,iters):\n",
    "        method.do_iteration()\n",
    "    end = timer()\n",
    "    return end - start\n",
    "\n",
    "sw_time = time_method(sw_rk,iters)\n",
    "print(\"Time for sliding window: \", sw_time)\n",
    "\n",
    "sampled_time = time_method(sampled_rk,iters)\n",
    "print(\"Time for sampled rk: \", sampled_time)\n",
    "print(\"sampled/sliding: \", sampled_time/sw_time)\n",
    "    "
   ]
  },
  {
   "cell_type": "markdown",
   "metadata": {},
   "source": [
    "---"
   ]
  },
  {
   "cell_type": "markdown",
   "metadata": {},
   "source": [
    "What happens with SGD when we increase the fraction of corruptions?  By varying $\\beta$ we can see how the behavior of SGD changes for various quantiles."
   ]
  },
  {
   "cell_type": "code",
   "execution_count": null,
   "metadata": {},
   "outputs": [],
   "source": [
    "rows, cols = 50000, 100\n",
    "start = np.zeros(cols)\n",
    "linedesign = [\n",
    "#[linestyle info, linewidth, markersize, markevery] \n",
    "['',4,12,2],\n",
    "['--',2,12,2],\n",
    "['-.',2,12,2],\n",
    "[':',2,12,2],\n",
    "['o-',2,7,2],\n",
    "['v--',2,7,2],\n",
    "['-',2,7,2]\n",
    "] \n",
    "for i, beta in enumerate([0,0.1,0.2,0.3,0.4,0.5,0.6]):\n",
    "    errs = math.ceil(beta * rows);\n",
    "    A,b,soln = sysgen.normalized_gaussian_with_errors(rows, cols, errs, max_error=1)\n",
    "    start_data = [A,b,start]\n",
    "    quantiles = np.linspace(0.1,0.9, num=9)\n",
    "    sgd_error_by_quantile = [math.log(plots.final_error( methods.SampledQuantileSGD(*start_data, quantile = q, samples=100) , \n",
    "                                     iters=4000, soln=soln)) for q in quantiles]\n",
    "    plt.plot(quantiles, sgd_error_by_quantile, linedesign[i][0],  label=r\"$\\beta$=\"+str(beta), linewidth=linedesign[i][1], markersize=linedesign[i][2],\n",
    "                           markevery=linedesign[i][3])\n",
    "\n",
    "plt.xlabel('Quantile')\n",
    "plt.ylabel('Error after 4000 iterations')\n",
    "plt.legend(loc='lower left')\n",
    "plt.show()"
   ]
  },
  {
   "cell_type": "markdown",
   "metadata": {},
   "source": [
    "Note that for $\\beta$ very small, the median appears to behave best among the quantiles.  As $\\beta$ grows large, lower quantiles yield better behavior."
   ]
  },
  {
   "cell_type": "markdown",
   "metadata": {},
   "source": [
    "We can run the same experiment for median RK"
   ]
  },
  {
   "cell_type": "code",
   "execution_count": null,
   "metadata": {},
   "outputs": [],
   "source": [
    "rows, cols = 50000, 100\n",
    "start = np.zeros(cols)\n",
    "\n",
    "for i, beta in enumerate([0,0.1,0.2,0.3,0.4,0.5,0.6]):\n",
    "    errs = math.ceil(beta * rows);\n",
    "    A,b,soln = sysgen.normalized_gaussian_with_errors(rows, cols, errs, max_error=1)\n",
    "    start_data = [A,b,start]\n",
    "    quantiles = np.linspace(0.1,0.9, num=9)\n",
    "    rk_error_by_quantile = [math.log(plots.final_error( methods.SampledQuantileRK(*start_data, quantile = q, samples=100) , \n",
    "                                     iters=4000, soln=soln)) for q in quantiles]\n",
    "    plt.plot(quantiles, rk_error_by_quantile, linedesign[i][0],  label=r\"$\\beta$=\"+str(beta), linewidth=linedesign[i][1], markersize=linedesign[i][2],\n",
    "                           markevery=linedesign[i][3])\n",
    "plt.ylabel('Error after 4000 iterations')\n",
    "plt.legend(loc='lower left')\n",
    "plt.show()"
   ]
  },
  {
   "cell_type": "markdown",
   "metadata": {},
   "source": [
    "---\n"
   ]
  },
  {
   "cell_type": "markdown",
   "metadata": {},
   "source": [
    "Let's see what happens for less tall matrices."
   ]
  },
  {
   "cell_type": "code",
   "execution_count": null,
   "metadata": {},
   "outputs": [],
   "source": [
    "def tall_test(rows, cols):\n",
    "    beta = 0.2\n",
    "    errs = math.ceil(beta * rows);\n",
    "    A,b,soln = sysgen.normalized_gaussian_with_errors(rows, cols, errs, max_error=1)\n",
    "    start = np.zeros(cols)\n",
    "    start_data = [A,b,start]\n",
    "\n",
    "    rk_vs_sgd = [[methods.SampledQuantileSGD(*start_data, \n",
    "    quantile=0.4, samples=100), \"SGD\"],\n",
    "    [methods.SampledQuantileRK(*start_data, \n",
    "    quantile=0.7, samples=100), \"RK\"]]\n",
    "    \n",
    "    plots.make_plot(rk_vs_sgd,iters=10000,soln=soln)\n",
    "    plt.show()\n",
    "    \n",
    "    "
   ]
  },
  {
   "cell_type": "code",
   "execution_count": null,
   "metadata": {},
   "outputs": [],
   "source": [
    "tall_test(200,100)"
   ]
  },
  {
   "cell_type": "markdown",
   "metadata": {},
   "source": [
    "In this case, SGD (and to a lesser extent RK) appear to initially converge linearly while eventually reaching a convergence horizon."
   ]
  },
  {
   "cell_type": "code",
   "execution_count": null,
   "metadata": {},
   "outputs": [],
   "source": [
    "tall_test(500,100)"
   ]
  },
  {
   "cell_type": "markdown",
   "metadata": {},
   "source": [
    "For slightly taller matrices, SGD and RK seem to avoid the convergence horizon.  These results agree with our theory which suggests that the aspect ratio of the matrix should be a sufficiently large constant."
   ]
  },
  {
   "cell_type": "markdown",
   "metadata": {},
   "source": [
    "For SGD, let's see how the aspect ratio of the matrix affects convergence properties."
   ]
  },
  {
   "cell_type": "code",
   "execution_count": null,
   "metadata": {},
   "outputs": [],
   "source": [
    "beta = 0.2\n",
    "cols = 100\n",
    "\n",
    "errors = []\n",
    "aspects = [2,2.5,3,3.4,4,4.5,5,6]\n",
    "for aspect in aspects:\n",
    "    rows = math.floor(aspect*cols)\n",
    "    errs = math.ceil(beta * rows);\n",
    "    A,b,soln = sysgen.normalized_gaussian_with_errors(rows, cols, errs, max_error=1)\n",
    "    start = np.zeros(cols)\n",
    "    start_data = [A,b,start]\n",
    "\n",
    "    errors.append(math.log(plots.final_error( methods.SampledQuantileRK(*start_data, quantile = 0.4, samples=100) , \n",
    "                                     iters=10000, soln=soln)))\n",
    "plt.plot(aspects, errors)\n",
    "plt.show()"
   ]
  },
  {
   "cell_type": "markdown",
   "metadata": {},
   "source": [
    "---\n"
   ]
  },
  {
   "cell_type": "markdown",
   "metadata": {},
   "source": [
    "How well does quantile SGD approximate OPT sgd?"
   ]
  },
  {
   "cell_type": "code",
   "execution_count": null,
   "metadata": {},
   "outputs": [],
   "source": [
    "rows, cols = 5000, 100\n",
    "beta = 0.2\n",
    "errs = math.ceil(beta * rows);\n",
    "A,b,soln = sysgen.normalized_gaussian_with_errors(rows, cols, errs, max_error=1)\n",
    "start = np.zeros(cols)\n",
    "start_data = [A,b,start]\n",
    "\n",
    "opt_sgd = methods.OptSGD(*start_data, soln=soln)\n",
    "sampled_sgd = methods.SampledQuantileSGD(*start_data, quantile = 0.4, samples=100)\n",
    "plots.make_plot([[opt_sgd, \"Opt SGD\"], [sampled_sgd,\"Sampled SGD\"]], iters=1000, soln=soln)\n",
    "plt.show()"
   ]
  },
  {
   "cell_type": "markdown",
   "metadata": {},
   "source": [
    "How does opt_sgd behave for various fractions of errors?"
   ]
  },
  {
   "cell_type": "code",
   "execution_count": null,
   "metadata": {},
   "outputs": [],
   "source": [
    "rows, cols = 1000, 100\n",
    "\n",
    "for beta in np.linspace(0.1, 0.9, num=9):\n",
    "    errs = math.ceil(beta * rows);\n",
    "    A,b,soln = sysgen.normalized_gaussian_with_errors(rows, cols, errs, max_error=1)\n",
    "    start = np.zeros(cols)\n",
    "    start_data = [A,b,start]\n",
    "    opt_sgd = methods.OptSGD(*start_data, soln=soln)\n",
    "    plots.make_plot([[opt_sgd,\"beta=\"+str(beta)]], iters=1000, soln=soln)\n",
    "plt.show()"
   ]
  },
  {
   "cell_type": "code",
   "execution_count": null,
   "metadata": {},
   "outputs": [],
   "source": []
  }
 ],
 "metadata": {
  "kernelspec": {
   "display_name": "Python 3",
   "language": "python",
   "name": "python3"
  },
  "language_info": {
   "codemirror_mode": {
    "name": "ipython",
    "version": 3
   },
   "file_extension": ".py",
   "mimetype": "text/x-python",
   "name": "python",
   "nbconvert_exporter": "python",
   "pygments_lexer": "ipython3",
   "version": "3.7.7"
  }
 },
 "nbformat": 4,
 "nbformat_minor": 4
}
